{
 "cells": [
  {
   "cell_type": "code",
   "execution_count": 1,
   "id": "99b8122e",
   "metadata": {},
   "outputs": [
    {
     "name": "stdout",
     "output_type": "stream",
     "text": [
      "Number of rows: 1599999\n",
      "Number of columns: 6\n",
      "Number of rows: 1599999\n",
      "Number of columns: 6\n",
      "<class 'pandas.core.frame.DataFrame'>\n",
      "RangeIndex: 1599999 entries, 0 to 1599998\n",
      "Data columns (total 6 columns):\n",
      " #   Column  Non-Null Count    Dtype \n",
      "---  ------  --------------    ----- \n",
      " 0   target  1599999 non-null  int64 \n",
      " 1   ids     1599999 non-null  int64 \n",
      " 2   date    1599999 non-null  object\n",
      " 3   flag    1599999 non-null  object\n",
      " 4   user    1599999 non-null  object\n",
      " 5   text    1599999 non-null  object\n",
      "dtypes: int64(2), object(4)\n",
      "memory usage: 73.2+ MB\n"
     ]
    }
   ],
   "source": [
    "# Run DataExplore File to use datat in dataFrame\n",
    "%run DataExplore.ipynb"
   ]
  },
  {
   "cell_type": "code",
   "execution_count": 2,
   "id": "7287e703",
   "metadata": {},
   "outputs": [],
   "source": [
    "# nltk\n",
    "import nltk\n",
    "from nltk.stem import WordNetLemmatizer\n",
    "from nltk.corpus import stopwords   \n",
    "from nltk import PorterStemmer   \n",
    "from nltk.tokenize import word_tokenize\n",
    "# regular expression\n",
    "import re      # matching the words in any content\n"
   ]
  },
  {
   "cell_type": "markdown",
   "id": "84f0e41e",
   "metadata": {},
   "source": [
    "# 2: Data Preprocessing"
   ]
  },
  {
   "cell_type": "markdown",
   "id": "8a2c3ec3",
   "metadata": {},
   "source": [
    "## 2.1: Selecting the text and target colum for our future analysis"
   ]
  },
  {
   "cell_type": "code",
   "execution_count": 3,
   "id": "9648c245",
   "metadata": {},
   "outputs": [],
   "source": [
    "# only two columns to need in futrure to sentiment analysis target and text\n",
    "data = twitter_data[['target', 'text']]"
   ]
  },
  {
   "cell_type": "markdown",
   "id": "ebe91cdf",
   "metadata": {},
   "source": [
    "## 2.2: Replacing the target's value  "
   ]
  },
  {
   "cell_type": "markdown",
   "id": "06841e6c",
   "metadata": {},
   "source": [
    "######  Know that  here in target columns has two values 0 for negative and 4 for positive tweets, so here i'm replace the value 4 to 1"
   ]
  },
  {
   "cell_type": "markdown",
   "id": "f63628bc",
   "metadata": {},
   "source": [
    "#### Assuming 1 to positive sentiment 4"
   ]
  },
  {
   "cell_type": "code",
   "execution_count": 4,
   "id": "d0bb50a6",
   "metadata": {},
   "outputs": [
    {
     "name": "stderr",
     "output_type": "stream",
     "text": [
      "C:\\Users\\KAMAL CHANDRA\\AppData\\Local\\Temp\\ipykernel_3984\\2589728098.py:2: SettingWithCopyWarning: \n",
      "A value is trying to be set on a copy of a slice from a DataFrame.\n",
      "Try using .loc[row_indexer,col_indexer] = value instead\n",
      "\n",
      "See the caveats in the documentation: https://pandas.pydata.org/pandas-docs/stable/user_guide/indexing.html#returning-a-view-versus-a-copy\n",
      "  data.replace({'target':{4:1}},inplace = True)\n"
     ]
    },
    {
     "data": {
      "text/plain": [
       "target\n",
       "1    800000\n",
       "0    799999\n",
       "Name: count, dtype: int64"
      ]
     },
     "execution_count": 4,
     "metadata": {},
     "output_type": "execute_result"
    }
   ],
   "source": [
    "# Replaceing the target value 4 to 1\n",
    "data.replace({'target':{4:1}},inplace = True)\n",
    "data['target'].value_counts()"
   ]
  },
  {
   "cell_type": "markdown",
   "id": "5b2d5bdc",
   "metadata": {},
   "source": [
    "#### 0 ------>Negative Tweets\n",
    "\n",
    "#### 1 ------>Positive Tweets"
   ]
  },
  {
   "cell_type": "markdown",
   "id": "9f175659",
   "metadata": {},
   "source": [
    "## 2.3 Printing unique value of target variables"
   ]
  },
  {
   "cell_type": "code",
   "execution_count": 5,
   "id": "fe9945e9",
   "metadata": {},
   "outputs": [
    {
     "data": {
      "text/plain": [
       "array([0, 1], dtype=int64)"
      ]
     },
     "execution_count": 5,
     "metadata": {},
     "output_type": "execute_result"
    }
   ],
   "source": [
    "# Check here all unique value store in target columns\n",
    "data['target'].unique()"
   ]
  },
  {
   "cell_type": "markdown",
   "id": "6c72a2bc",
   "metadata": {},
   "source": [
    "## 2.4: Seprating positive and negative tweets"
   ]
  },
  {
   "cell_type": "markdown",
   "id": "ef124334",
   "metadata": {},
   "source": [
    "###### Dividing the data in two seprate parts 1's is positive and 2'nd is negative"
   ]
  },
  {
   "cell_type": "code",
   "execution_count": 7,
   "id": "488bd191",
   "metadata": {},
   "outputs": [],
   "source": [
    "# store only positive tweets here\n",
    "data_pos = data[data['target'] == 1]\n",
    "# -------------------------------------------\n",
    "# Store only negative tweets in here\n",
    "data_neg = data[data['target'] == 0]"
   ]
  },
  {
   "cell_type": "code",
   "execution_count": 8,
   "id": "a3274ca9",
   "metadata": {},
   "outputs": [
    {
     "data": {
      "text/html": [
       "<div>\n",
       "<style scoped>\n",
       "    .dataframe tbody tr th:only-of-type {\n",
       "        vertical-align: middle;\n",
       "    }\n",
       "\n",
       "    .dataframe tbody tr th {\n",
       "        vertical-align: top;\n",
       "    }\n",
       "\n",
       "    .dataframe thead th {\n",
       "        text-align: right;\n",
       "    }\n",
       "</style>\n",
       "<table border=\"1\" class=\"dataframe\">\n",
       "  <thead>\n",
       "    <tr style=\"text-align: right;\">\n",
       "      <th></th>\n",
       "      <th>target</th>\n",
       "      <th>text</th>\n",
       "    </tr>\n",
       "  </thead>\n",
       "  <tbody>\n",
       "    <tr>\n",
       "      <th>799999</th>\n",
       "      <td>1</td>\n",
       "      <td>I LOVE @Health4UandPets u guys r the best!!</td>\n",
       "    </tr>\n",
       "    <tr>\n",
       "      <th>800000</th>\n",
       "      <td>1</td>\n",
       "      <td>im meeting up with one of my besties tonight! ...</td>\n",
       "    </tr>\n",
       "    <tr>\n",
       "      <th>800001</th>\n",
       "      <td>1</td>\n",
       "      <td>@DaRealSunisaKim Thanks for the Twitter add, S...</td>\n",
       "    </tr>\n",
       "    <tr>\n",
       "      <th>800002</th>\n",
       "      <td>1</td>\n",
       "      <td>Being sick can be really cheap when it hurts t...</td>\n",
       "    </tr>\n",
       "    <tr>\n",
       "      <th>800003</th>\n",
       "      <td>1</td>\n",
       "      <td>@LovesBrooklyn2 he has that effect on everyone</td>\n",
       "    </tr>\n",
       "  </tbody>\n",
       "</table>\n",
       "</div>"
      ],
      "text/plain": [
       "        target                                               text\n",
       "799999       1       I LOVE @Health4UandPets u guys r the best!! \n",
       "800000       1  im meeting up with one of my besties tonight! ...\n",
       "800001       1  @DaRealSunisaKim Thanks for the Twitter add, S...\n",
       "800002       1  Being sick can be really cheap when it hurts t...\n",
       "800003       1    @LovesBrooklyn2 he has that effect on everyone "
      ]
     },
     "execution_count": 8,
     "metadata": {},
     "output_type": "execute_result"
    }
   ],
   "source": [
    "# view top few positive tweets \n",
    "# data_pos.shape\n",
    "data_pos.head()"
   ]
  },
  {
   "cell_type": "code",
   "execution_count": 9,
   "id": "95997b7f",
   "metadata": {},
   "outputs": [
    {
     "data": {
      "text/html": [
       "<div>\n",
       "<style scoped>\n",
       "    .dataframe tbody tr th:only-of-type {\n",
       "        vertical-align: middle;\n",
       "    }\n",
       "\n",
       "    .dataframe tbody tr th {\n",
       "        vertical-align: top;\n",
       "    }\n",
       "\n",
       "    .dataframe thead th {\n",
       "        text-align: right;\n",
       "    }\n",
       "</style>\n",
       "<table border=\"1\" class=\"dataframe\">\n",
       "  <thead>\n",
       "    <tr style=\"text-align: right;\">\n",
       "      <th></th>\n",
       "      <th>target</th>\n",
       "      <th>text</th>\n",
       "    </tr>\n",
       "  </thead>\n",
       "  <tbody>\n",
       "    <tr>\n",
       "      <th>0</th>\n",
       "      <td>0</td>\n",
       "      <td>is upset that he can't update his Facebook by ...</td>\n",
       "    </tr>\n",
       "    <tr>\n",
       "      <th>1</th>\n",
       "      <td>0</td>\n",
       "      <td>@Kenichan I dived many times for the ball. Man...</td>\n",
       "    </tr>\n",
       "    <tr>\n",
       "      <th>2</th>\n",
       "      <td>0</td>\n",
       "      <td>my whole body feels itchy and like its on fire</td>\n",
       "    </tr>\n",
       "    <tr>\n",
       "      <th>3</th>\n",
       "      <td>0</td>\n",
       "      <td>@nationwideclass no, it's not behaving at all....</td>\n",
       "    </tr>\n",
       "    <tr>\n",
       "      <th>4</th>\n",
       "      <td>0</td>\n",
       "      <td>@Kwesidei not the whole crew</td>\n",
       "    </tr>\n",
       "  </tbody>\n",
       "</table>\n",
       "</div>"
      ],
      "text/plain": [
       "   target                                               text\n",
       "0       0  is upset that he can't update his Facebook by ...\n",
       "1       0  @Kenichan I dived many times for the ball. Man...\n",
       "2       0    my whole body feels itchy and like its on fire \n",
       "3       0  @nationwideclass no, it's not behaving at all....\n",
       "4       0                      @Kwesidei not the whole crew "
      ]
     },
     "execution_count": 9,
     "metadata": {},
     "output_type": "execute_result"
    }
   ],
   "source": [
    "# view top few negative tweets\n",
    "data_neg.shape\n",
    "data_neg.head()"
   ]
  },
  {
   "cell_type": "markdown",
   "id": "7676ec51",
   "metadata": {},
   "source": [
    "# 2.5: Taking 10% data of twitter_data "
   ]
  },
  {
   "cell_type": "code",
   "execution_count": 10,
   "id": "3cbcc8bb",
   "metadata": {},
   "outputs": [],
   "source": [
    "# half data are take for working \n",
    "data_pos = data_pos.iloc[:int(80000)]\n",
    "data_neg = data_neg.iloc[:int(80000)]"
   ]
  },
  {
   "cell_type": "markdown",
   "id": "74f0762a",
   "metadata": {},
   "source": [
    "## 2.6: Combilning positive and negative tweet"
   ]
  },
  {
   "cell_type": "code",
   "execution_count": 11,
   "id": "778f43c6",
   "metadata": {},
   "outputs": [
    {
     "data": {
      "text/html": [
       "<div>\n",
       "<style scoped>\n",
       "    .dataframe tbody tr th:only-of-type {\n",
       "        vertical-align: middle;\n",
       "    }\n",
       "\n",
       "    .dataframe tbody tr th {\n",
       "        vertical-align: top;\n",
       "    }\n",
       "\n",
       "    .dataframe thead th {\n",
       "        text-align: right;\n",
       "    }\n",
       "</style>\n",
       "<table border=\"1\" class=\"dataframe\">\n",
       "  <thead>\n",
       "    <tr style=\"text-align: right;\">\n",
       "      <th></th>\n",
       "      <th>target</th>\n",
       "      <th>text</th>\n",
       "    </tr>\n",
       "  </thead>\n",
       "  <tbody>\n",
       "    <tr>\n",
       "      <th>0</th>\n",
       "      <td>0</td>\n",
       "      <td>is upset that he can't update his Facebook by ...</td>\n",
       "    </tr>\n",
       "    <tr>\n",
       "      <th>1</th>\n",
       "      <td>0</td>\n",
       "      <td>@Kenichan I dived many times for the ball. Man...</td>\n",
       "    </tr>\n",
       "    <tr>\n",
       "      <th>2</th>\n",
       "      <td>0</td>\n",
       "      <td>my whole body feels itchy and like its on fire</td>\n",
       "    </tr>\n",
       "    <tr>\n",
       "      <th>3</th>\n",
       "      <td>0</td>\n",
       "      <td>@nationwideclass no, it's not behaving at all....</td>\n",
       "    </tr>\n",
       "    <tr>\n",
       "      <th>4</th>\n",
       "      <td>0</td>\n",
       "      <td>@Kwesidei not the whole crew</td>\n",
       "    </tr>\n",
       "  </tbody>\n",
       "</table>\n",
       "</div>"
      ],
      "text/plain": [
       "   target                                               text\n",
       "0       0  is upset that he can't update his Facebook by ...\n",
       "1       0  @Kenichan I dived many times for the ball. Man...\n",
       "2       0    my whole body feels itchy and like its on fire \n",
       "3       0  @nationwideclass no, it's not behaving at all....\n",
       "4       0                      @Kwesidei not the whole crew "
      ]
     },
     "execution_count": 11,
     "metadata": {},
     "output_type": "execute_result"
    }
   ],
   "source": [
    "# Combined the both tweets postive and negative and store in dataset\n",
    "dataset = pd.concat([data_neg,data_pos])\n",
    "# view tp few tweets\n",
    "dataset.head()"
   ]
  },
  {
   "cell_type": "code",
   "execution_count": 12,
   "id": "c3cc3791",
   "metadata": {},
   "outputs": [
    {
     "data": {
      "text/html": [
       "<div>\n",
       "<style scoped>\n",
       "    .dataframe tbody tr th:only-of-type {\n",
       "        vertical-align: middle;\n",
       "    }\n",
       "\n",
       "    .dataframe tbody tr th {\n",
       "        vertical-align: top;\n",
       "    }\n",
       "\n",
       "    .dataframe thead th {\n",
       "        text-align: right;\n",
       "    }\n",
       "</style>\n",
       "<table border=\"1\" class=\"dataframe\">\n",
       "  <thead>\n",
       "    <tr style=\"text-align: right;\">\n",
       "      <th></th>\n",
       "      <th>target</th>\n",
       "      <th>text</th>\n",
       "    </tr>\n",
       "  </thead>\n",
       "  <tbody>\n",
       "    <tr>\n",
       "      <th>879994</th>\n",
       "      <td>1</td>\n",
       "      <td>morn all, waitin 4 the sun 2 reappear, so cool...</td>\n",
       "    </tr>\n",
       "    <tr>\n",
       "      <th>879995</th>\n",
       "      <td>1</td>\n",
       "      <td>Why am I still up at 3am? Good grief and good ...</td>\n",
       "    </tr>\n",
       "    <tr>\n",
       "      <th>879996</th>\n",
       "      <td>1</td>\n",
       "      <td>Morning world.  Taking my parents out for a me...</td>\n",
       "    </tr>\n",
       "    <tr>\n",
       "      <th>879997</th>\n",
       "      <td>1</td>\n",
       "      <td>drive ins are fun...just saying.</td>\n",
       "    </tr>\n",
       "    <tr>\n",
       "      <th>879998</th>\n",
       "      <td>1</td>\n",
       "      <td>i like my twitter page background</td>\n",
       "    </tr>\n",
       "  </tbody>\n",
       "</table>\n",
       "</div>"
      ],
      "text/plain": [
       "        target                                               text\n",
       "879994       1  morn all, waitin 4 the sun 2 reappear, so cool...\n",
       "879995       1  Why am I still up at 3am? Good grief and good ...\n",
       "879996       1  Morning world.  Taking my parents out for a me...\n",
       "879997       1                  drive ins are fun...just saying. \n",
       "879998       1                 i like my twitter page background "
      ]
     },
     "execution_count": 12,
     "metadata": {},
     "output_type": "execute_result"
    }
   ],
   "source": [
    "# view last few tweets\n",
    "dataset.tail()"
   ]
  },
  {
   "cell_type": "code",
   "execution_count": 13,
   "id": "e6849103",
   "metadata": {},
   "outputs": [
    {
     "data": {
      "text/plain": [
       "(160000, 2)"
      ]
     },
     "execution_count": 13,
     "metadata": {},
     "output_type": "execute_result"
    }
   ],
   "source": [
    "dataset.shape"
   ]
  },
  {
   "cell_type": "code",
   "execution_count": 14,
   "id": "d5cd20ca",
   "metadata": {},
   "outputs": [
    {
     "data": {
      "text/plain": [
       "target\n",
       "0    80000\n",
       "1    80000\n",
       "Name: count, dtype: int64"
      ]
     },
     "execution_count": 14,
     "metadata": {},
     "output_type": "execute_result"
    }
   ],
   "source": [
    "dataset['target'].value_counts() "
   ]
  },
  {
   "cell_type": "markdown",
   "id": "36b21ace",
   "metadata": {},
   "source": [
    "## 2: Stemming"
   ]
  },
  {
   "cell_type": "code",
   "execution_count": 15,
   "id": "a67d3ee6",
   "metadata": {},
   "outputs": [],
   "source": [
    "# Download the stopwords dataset\n",
    "# nltk.download('stopwords')"
   ]
  },
  {
   "cell_type": "code",
   "execution_count": 16,
   "id": "9d9f6668",
   "metadata": {},
   "outputs": [
    {
     "name": "stdout",
     "output_type": "stream",
     "text": [
      "['i', 'me', 'my', 'myself', 'we', 'our', 'ours', 'ourselves', 'you', \"you're\", \"you've\", \"you'll\", \"you'd\", 'your', 'yours', 'yourself', 'yourselves', 'he', 'him', 'his', 'himself', 'she', \"she's\", 'her', 'hers', 'herself', 'it', \"it's\", 'its', 'itself', 'they', 'them', 'their', 'theirs', 'themselves', 'what', 'which', 'who', 'whom', 'this', 'that', \"that'll\", 'these', 'those', 'am', 'is', 'are', 'was', 'were', 'be', 'been', 'being', 'have', 'has', 'had', 'having', 'do', 'does', 'did', 'doing', 'a', 'an', 'the', 'and', 'but', 'if', 'or', 'because', 'as', 'until', 'while', 'of', 'at', 'by', 'for', 'with', 'about', 'against', 'between', 'into', 'through', 'during', 'before', 'after', 'above', 'below', 'to', 'from', 'up', 'down', 'in', 'out', 'on', 'off', 'over', 'under', 'again', 'further', 'then', 'once', 'here', 'there', 'when', 'where', 'why', 'how', 'all', 'any', 'both', 'each', 'few', 'more', 'most', 'other', 'some', 'such', 'no', 'nor', 'not', 'only', 'own', 'same', 'so', 'than', 'too', 'very', 's', 't', 'can', 'will', 'just', 'don', \"don't\", 'should', \"should've\", 'now', 'd', 'll', 'm', 'o', 're', 've', 'y', 'ain', 'aren', \"aren't\", 'couldn', \"couldn't\", 'didn', \"didn't\", 'doesn', \"doesn't\", 'hadn', \"hadn't\", 'hasn', \"hasn't\", 'haven', \"haven't\", 'isn', \"isn't\", 'ma', 'mightn', \"mightn't\", 'mustn', \"mustn't\", 'needn', \"needn't\", 'shan', \"shan't\", 'shouldn', \"shouldn't\", 'wasn', \"wasn't\", 'weren', \"weren't\", 'won', \"won't\", 'wouldn', \"wouldn't\"]\n"
     ]
    }
   ],
   "source": [
    "print(stopwords.words('english'))"
   ]
  },
  {
   "cell_type": "markdown",
   "id": "aeefdbf8",
   "metadata": {},
   "source": [
    "## 2.1: Defined a function for Stemming of the text"
   ]
  },
  {
   "cell_type": "code",
   "execution_count": 13,
   "id": "1363fe46",
   "metadata": {},
   "outputs": [],
   "source": [
    "\n",
    "# Instantiate the PorterStemmer\n",
    "port_stem = PorterStemmer()\n"
   ]
  },
  {
   "cell_type": "code",
   "execution_count": 14,
   "id": "cdc80a9e",
   "metadata": {},
   "outputs": [],
   "source": [
    "# Function \n",
    "def stemming(content):\n",
    "    # Clean non-alphabetic characters and convert to lowercase\n",
    "    cleaned_content = re.sub('[^a-zA-Z]', ' ', content)\n",
    "    cleaned_content = cleaned_content.lower()\n",
    "\n",
    "    # Tokenize the cleaned content\n",
    "    tokenized_content = word_tokenize(cleaned_content)\n",
    "\n",
    "    # Apply stemming and remove stopwords\n",
    "    stemmed_content = [port_stem.stem(word)\n",
    "                       for word in tokenized_content\n",
    "                       if word.lower() not in stopwords.words('english')]\n",
    "\n",
    "    # Join the stemmed words back into a single string\n",
    "    stemmed_content = ' '.join(stemmed_content)\n",
    "    \n",
    "    return stemmed_content\n",
    "\n"
   ]
  },
  {
   "cell_type": "code",
   "execution_count": 15,
   "id": "189d4e56",
   "metadata": {},
   "outputs": [
    {
     "data": {
      "text/html": [
       "<div>\n",
       "<style scoped>\n",
       "    .dataframe tbody tr th:only-of-type {\n",
       "        vertical-align: middle;\n",
       "    }\n",
       "\n",
       "    .dataframe tbody tr th {\n",
       "        vertical-align: top;\n",
       "    }\n",
       "\n",
       "    .dataframe thead th {\n",
       "        text-align: right;\n",
       "    }\n",
       "</style>\n",
       "<table border=\"1\" class=\"dataframe\">\n",
       "  <thead>\n",
       "    <tr style=\"text-align: right;\">\n",
       "      <th></th>\n",
       "      <th>target</th>\n",
       "      <th>text</th>\n",
       "      <th>Stemmed_content</th>\n",
       "    </tr>\n",
       "  </thead>\n",
       "  <tbody>\n",
       "    <tr>\n",
       "      <th>0</th>\n",
       "      <td>0</td>\n",
       "      <td>is upset that he can't update his Facebook by ...</td>\n",
       "      <td>upset updat facebook text might cri result sch...</td>\n",
       "    </tr>\n",
       "    <tr>\n",
       "      <th>1</th>\n",
       "      <td>0</td>\n",
       "      <td>@Kenichan I dived many times for the ball. Man...</td>\n",
       "      <td>kenichan dive mani time ball manag save rest g...</td>\n",
       "    </tr>\n",
       "    <tr>\n",
       "      <th>2</th>\n",
       "      <td>0</td>\n",
       "      <td>my whole body feels itchy and like its on fire</td>\n",
       "      <td>whole bodi feel itchi like fire</td>\n",
       "    </tr>\n",
       "    <tr>\n",
       "      <th>3</th>\n",
       "      <td>0</td>\n",
       "      <td>@nationwideclass no, it's not behaving at all....</td>\n",
       "      <td>nationwideclass behav mad see</td>\n",
       "    </tr>\n",
       "    <tr>\n",
       "      <th>4</th>\n",
       "      <td>0</td>\n",
       "      <td>@Kwesidei not the whole crew</td>\n",
       "      <td>kwesidei whole crew</td>\n",
       "    </tr>\n",
       "  </tbody>\n",
       "</table>\n",
       "</div>"
      ],
      "text/plain": [
       "   target                                               text  \\\n",
       "0       0  is upset that he can't update his Facebook by ...   \n",
       "1       0  @Kenichan I dived many times for the ball. Man...   \n",
       "2       0    my whole body feels itchy and like its on fire    \n",
       "3       0  @nationwideclass no, it's not behaving at all....   \n",
       "4       0                      @Kwesidei not the whole crew    \n",
       "\n",
       "                                     Stemmed_content  \n",
       "0  upset updat facebook text might cri result sch...  \n",
       "1  kenichan dive mani time ball manag save rest g...  \n",
       "2                    whole bodi feel itchi like fire  \n",
       "3                      nationwideclass behav mad see  \n",
       "4                                kwesidei whole crew  "
      ]
     },
     "execution_count": 15,
     "metadata": {},
     "output_type": "execute_result"
    }
   ],
   "source": [
    "# create a new column and apply steeming function\n",
    "dataset['Stemmed_content'] = dataset['text'].apply(stemming)\n",
    "\n",
    "# And print top few rows\n",
    "dataset.head()"
   ]
  },
  {
   "cell_type": "code",
   "execution_count": 19,
   "id": "9eb18671",
   "metadata": {},
   "outputs": [
    {
     "data": {
      "text/html": [
       "<div>\n",
       "<style scoped>\n",
       "    .dataframe tbody tr th:only-of-type {\n",
       "        vertical-align: middle;\n",
       "    }\n",
       "\n",
       "    .dataframe tbody tr th {\n",
       "        vertical-align: top;\n",
       "    }\n",
       "\n",
       "    .dataframe thead th {\n",
       "        text-align: right;\n",
       "    }\n",
       "</style>\n",
       "<table border=\"1\" class=\"dataframe\">\n",
       "  <thead>\n",
       "    <tr style=\"text-align: right;\">\n",
       "      <th></th>\n",
       "      <th>text</th>\n",
       "      <th>Stemmed_content</th>\n",
       "    </tr>\n",
       "  </thead>\n",
       "  <tbody>\n",
       "    <tr>\n",
       "      <th>0</th>\n",
       "      <td>is upset that he can't update his Facebook by ...</td>\n",
       "      <td>upset updat facebook text might cri result sch...</td>\n",
       "    </tr>\n",
       "    <tr>\n",
       "      <th>1</th>\n",
       "      <td>@Kenichan I dived many times for the ball. Man...</td>\n",
       "      <td>kenichan dive mani time ball manag save rest g...</td>\n",
       "    </tr>\n",
       "    <tr>\n",
       "      <th>2</th>\n",
       "      <td>my whole body feels itchy and like its on fire</td>\n",
       "      <td>whole bodi feel itchi like fire</td>\n",
       "    </tr>\n",
       "    <tr>\n",
       "      <th>3</th>\n",
       "      <td>@nationwideclass no, it's not behaving at all....</td>\n",
       "      <td>nationwideclass behav mad see</td>\n",
       "    </tr>\n",
       "    <tr>\n",
       "      <th>4</th>\n",
       "      <td>@Kwesidei not the whole crew</td>\n",
       "      <td>kwesidei whole crew</td>\n",
       "    </tr>\n",
       "    <tr>\n",
       "      <th>5</th>\n",
       "      <td>Need a hug</td>\n",
       "      <td>need hug</td>\n",
       "    </tr>\n",
       "    <tr>\n",
       "      <th>6</th>\n",
       "      <td>@LOLTrish hey  long time no see! Yes.. Rains a...</td>\n",
       "      <td>loltrish hey long time see ye rain bit bit lol...</td>\n",
       "    </tr>\n",
       "    <tr>\n",
       "      <th>7</th>\n",
       "      <td>@Tatiana_K nope they didn't have it</td>\n",
       "      <td>tatiana k nope</td>\n",
       "    </tr>\n",
       "    <tr>\n",
       "      <th>8</th>\n",
       "      <td>@twittera que me muera ?</td>\n",
       "      <td>twittera que muera</td>\n",
       "    </tr>\n",
       "    <tr>\n",
       "      <th>9</th>\n",
       "      <td>spring break in plain city... it's snowing</td>\n",
       "      <td>spring break plain citi snow</td>\n",
       "    </tr>\n",
       "  </tbody>\n",
       "</table>\n",
       "</div>"
      ],
      "text/plain": [
       "                                                text  \\\n",
       "0  is upset that he can't update his Facebook by ...   \n",
       "1  @Kenichan I dived many times for the ball. Man...   \n",
       "2    my whole body feels itchy and like its on fire    \n",
       "3  @nationwideclass no, it's not behaving at all....   \n",
       "4                      @Kwesidei not the whole crew    \n",
       "5                                        Need a hug    \n",
       "6  @LOLTrish hey  long time no see! Yes.. Rains a...   \n",
       "7               @Tatiana_K nope they didn't have it    \n",
       "8                          @twittera que me muera ?    \n",
       "9        spring break in plain city... it's snowing    \n",
       "\n",
       "                                     Stemmed_content  \n",
       "0  upset updat facebook text might cri result sch...  \n",
       "1  kenichan dive mani time ball manag save rest g...  \n",
       "2                    whole bodi feel itchi like fire  \n",
       "3                      nationwideclass behav mad see  \n",
       "4                                kwesidei whole crew  \n",
       "5                                           need hug  \n",
       "6  loltrish hey long time see ye rain bit bit lol...  \n",
       "7                                     tatiana k nope  \n",
       "8                                 twittera que muera  \n",
       "9                       spring break plain citi snow  "
      ]
     },
     "execution_count": 19,
     "metadata": {},
     "output_type": "execute_result"
    }
   ],
   "source": [
    "dataset[['text','Stemmed_content']].head(10)"
   ]
  },
  {
   "cell_type": "code",
   "execution_count": 20,
   "id": "42fa6ddc",
   "metadata": {},
   "outputs": [
    {
     "name": "stdout",
     "output_type": "stream",
     "text": [
      "Original Text: is upset that he can't update his Facebook by texting it... and might cry as a result  School today also. Blah!\n",
      "Stemmed Content: upset updat facebook text might cri result school today also blah\n",
      "\n",
      "Original Text: @Kenichan I dived many times for the ball. Managed to save 50%  The rest go out of bounds\n",
      "Stemmed Content: kenichan dive mani time ball manag save rest go bound\n",
      "\n",
      "Original Text: my whole body feels itchy and like its on fire \n",
      "Stemmed Content: whole bodi feel itchi like fire\n",
      "\n",
      "Original Text: @nationwideclass no, it's not behaving at all. i'm mad. why am i here? because I can't see you all over there. \n",
      "Stemmed Content: nationwideclass behav mad see\n",
      "\n",
      "Original Text: @Kwesidei not the whole crew \n",
      "Stemmed Content: kwesidei whole crew\n",
      "\n"
     ]
    }
   ],
   "source": [
    "# Assuming 'dataset' is your DataFrame\n",
    "for index, row in dataset[['text', 'Stemmed_content']].head().iterrows():\n",
    "    print(f\"Original Text: {row['text']}\")\n",
    "    print(f\"Stemmed Content: {row['Stemmed_content']}\\n\")\n"
   ]
  },
  {
   "cell_type": "markdown",
   "id": "3f427815",
   "metadata": {},
   "source": [
    "## 2.2: Applying lemmatizer"
   ]
  },
  {
   "cell_type": "code",
   "execution_count": 23,
   "id": "517877a2",
   "metadata": {},
   "outputs": [
    {
     "name": "stderr",
     "output_type": "stream",
     "text": [
      "[nltk_data] Downloading package wordnet to C:\\Users\\KAMAL\n",
      "[nltk_data]     CHANDRA\\AppData\\Roaming\\nltk_data...\n",
      "[nltk_data]   Package wordnet is already up-to-date!\n"
     ]
    },
    {
     "data": {
      "text/plain": [
       "True"
      ]
     },
     "execution_count": 23,
     "metadata": {},
     "output_type": "execute_result"
    }
   ],
   "source": [
    "nltk.download('wordnet')"
   ]
  },
  {
   "cell_type": "code",
   "execution_count": 31,
   "id": "114b0da3",
   "metadata": {},
   "outputs": [],
   "source": [
    "\n",
    "# Initialize the WordNetLemmatizer\n",
    "lm = WordNetLemmatizer()\n",
    "\n",
    "# Define function\n",
    "def lemmatizing(content):\n",
    "    # Tokenize the content\n",
    "    tokens = nltk.word_tokenize(content)\n",
    "    \n",
    "    # Lemmatize each token\n",
    "    lemmatized_tokens = [lm.lemmatize(token) for token in tokens]\n",
    "    \n",
    "    # Join the lemmatized tokens back into a single string\n",
    "    lemmatized_content = ' '.join(lemmatized_tokens)\n",
    "    lemmatized_content = ' '.join(lemmatized_tokens)\n",
    "    \n",
    "    return lemmatized_content"
   ]
  },
  {
   "cell_type": "code",
   "execution_count": 32,
   "id": "087488bc",
   "metadata": {},
   "outputs": [],
   "source": [
    "# # import nltk\n",
    "# # from nltk.corpus import stopwords\n",
    "\n",
    "# # nltk.download('wordnet')\n",
    "# lm = nltk.WordNetLemmatizer()\n",
    "\n",
    "# def lemmatizing(content):\n",
    "#     text = [lm.lemmatize(word) for word in content \n",
    "#             if word not in dataset['Stemmed_content']]\n",
    "# #     join the words\n",
    "#     original_text = ' '.join(lemmatized_tokens)\n",
    "# #     print(original_text)\n",
    "#     return original_text\n",
    "\n"
   ]
  },
  {
   "cell_type": "code",
   "execution_count": 33,
   "id": "e6dabf86",
   "metadata": {
    "scrolled": false
   },
   "outputs": [
    {
     "data": {
      "text/html": [
       "<div>\n",
       "<style scoped>\n",
       "    .dataframe tbody tr th:only-of-type {\n",
       "        vertical-align: middle;\n",
       "    }\n",
       "\n",
       "    .dataframe tbody tr th {\n",
       "        vertical-align: top;\n",
       "    }\n",
       "\n",
       "    .dataframe thead th {\n",
       "        text-align: right;\n",
       "    }\n",
       "</style>\n",
       "<table border=\"1\" class=\"dataframe\">\n",
       "  <thead>\n",
       "    <tr style=\"text-align: right;\">\n",
       "      <th></th>\n",
       "      <th>target</th>\n",
       "      <th>text</th>\n",
       "      <th>Stemmed_content</th>\n",
       "      <th>lemmatize_content</th>\n",
       "      <th>Lemmatize_content</th>\n",
       "    </tr>\n",
       "  </thead>\n",
       "  <tbody>\n",
       "    <tr>\n",
       "      <th>0</th>\n",
       "      <td>0</td>\n",
       "      <td>is upset that he can't update his Facebook by ...</td>\n",
       "      <td>upset updat facebook text might cri result sch...</td>\n",
       "      <td>upsetupdatfacebooktextmightcriresultschooltoda...</td>\n",
       "      <td>upset updat facebook text might cri result sch...</td>\n",
       "    </tr>\n",
       "    <tr>\n",
       "      <th>1</th>\n",
       "      <td>0</td>\n",
       "      <td>@Kenichan I dived many times for the ball. Man...</td>\n",
       "      <td>kenichan dive mani time ball manag save rest g...</td>\n",
       "      <td>kenichandivemanitimeballmanagsaverestgobound</td>\n",
       "      <td>kenichan dive mani time ball manag save rest g...</td>\n",
       "    </tr>\n",
       "    <tr>\n",
       "      <th>2</th>\n",
       "      <td>0</td>\n",
       "      <td>my whole body feels itchy and like its on fire</td>\n",
       "      <td>whole bodi feel itchi like fire</td>\n",
       "      <td>wholebodifeelitchilikefire</td>\n",
       "      <td>whole bodi feel itchi like fire</td>\n",
       "    </tr>\n",
       "    <tr>\n",
       "      <th>3</th>\n",
       "      <td>0</td>\n",
       "      <td>@nationwideclass no, it's not behaving at all....</td>\n",
       "      <td>nationwideclass behav mad see</td>\n",
       "      <td>nationwideclassbehavmadsee</td>\n",
       "      <td>nationwideclass behav mad see</td>\n",
       "    </tr>\n",
       "    <tr>\n",
       "      <th>4</th>\n",
       "      <td>0</td>\n",
       "      <td>@Kwesidei not the whole crew</td>\n",
       "      <td>kwesidei whole crew</td>\n",
       "      <td>kwesideiwholecrew</td>\n",
       "      <td>kwesidei whole crew</td>\n",
       "    </tr>\n",
       "  </tbody>\n",
       "</table>\n",
       "</div>"
      ],
      "text/plain": [
       "   target                                               text  \\\n",
       "0       0  is upset that he can't update his Facebook by ...   \n",
       "1       0  @Kenichan I dived many times for the ball. Man...   \n",
       "2       0    my whole body feels itchy and like its on fire    \n",
       "3       0  @nationwideclass no, it's not behaving at all....   \n",
       "4       0                      @Kwesidei not the whole crew    \n",
       "\n",
       "                                     Stemmed_content  \\\n",
       "0  upset updat facebook text might cri result sch...   \n",
       "1  kenichan dive mani time ball manag save rest g...   \n",
       "2                    whole bodi feel itchi like fire   \n",
       "3                      nationwideclass behav mad see   \n",
       "4                                kwesidei whole crew   \n",
       "\n",
       "                                   lemmatize_content  \\\n",
       "0  upsetupdatfacebooktextmightcriresultschooltoda...   \n",
       "1       kenichandivemanitimeballmanagsaverestgobound   \n",
       "2                         wholebodifeelitchilikefire   \n",
       "3                         nationwideclassbehavmadsee   \n",
       "4                                  kwesideiwholecrew   \n",
       "\n",
       "                                   Lemmatize_content  \n",
       "0  upset updat facebook text might cri result sch...  \n",
       "1  kenichan dive mani time ball manag save rest g...  \n",
       "2                    whole bodi feel itchi like fire  \n",
       "3                      nationwideclass behav mad see  \n",
       "4                                kwesidei whole crew  "
      ]
     },
     "execution_count": 33,
     "metadata": {},
     "output_type": "execute_result"
    }
   ],
   "source": [
    "dataset['Lemmatize_content'] = dataset['Stemmed_content'].apply(lemmatizing)\n",
    "dataset.head() "
   ]
  },
  {
   "cell_type": "code",
   "execution_count": 28,
   "id": "85e1879d",
   "metadata": {},
   "outputs": [],
   "source": [
    "# Apply lemmatizer function\n",
    "dataset['lemmatize_content'] = dataset['Stemmed_content'].apply(lemmatizing)\n"
   ]
  },
  {
   "cell_type": "code",
   "execution_count": 29,
   "id": "b00e3554",
   "metadata": {},
   "outputs": [
    {
     "data": {
      "text/html": [
       "<div>\n",
       "<style scoped>\n",
       "    .dataframe tbody tr th:only-of-type {\n",
       "        vertical-align: middle;\n",
       "    }\n",
       "\n",
       "    .dataframe tbody tr th {\n",
       "        vertical-align: top;\n",
       "    }\n",
       "\n",
       "    .dataframe thead th {\n",
       "        text-align: right;\n",
       "    }\n",
       "</style>\n",
       "<table border=\"1\" class=\"dataframe\">\n",
       "  <thead>\n",
       "    <tr style=\"text-align: right;\">\n",
       "      <th></th>\n",
       "      <th>target</th>\n",
       "      <th>text</th>\n",
       "      <th>Stemmed_content</th>\n",
       "      <th>lemmatize_content</th>\n",
       "    </tr>\n",
       "  </thead>\n",
       "  <tbody>\n",
       "    <tr>\n",
       "      <th>0</th>\n",
       "      <td>0</td>\n",
       "      <td>is upset that he can't update his Facebook by ...</td>\n",
       "      <td>upset updat facebook text might cri result sch...</td>\n",
       "      <td>upsetupdatfacebooktextmightcriresultschooltoda...</td>\n",
       "    </tr>\n",
       "    <tr>\n",
       "      <th>1</th>\n",
       "      <td>0</td>\n",
       "      <td>@Kenichan I dived many times for the ball. Man...</td>\n",
       "      <td>kenichan dive mani time ball manag save rest g...</td>\n",
       "      <td>kenichandivemanitimeballmanagsaverestgobound</td>\n",
       "    </tr>\n",
       "    <tr>\n",
       "      <th>2</th>\n",
       "      <td>0</td>\n",
       "      <td>my whole body feels itchy and like its on fire</td>\n",
       "      <td>whole bodi feel itchi like fire</td>\n",
       "      <td>wholebodifeelitchilikefire</td>\n",
       "    </tr>\n",
       "    <tr>\n",
       "      <th>3</th>\n",
       "      <td>0</td>\n",
       "      <td>@nationwideclass no, it's not behaving at all....</td>\n",
       "      <td>nationwideclass behav mad see</td>\n",
       "      <td>nationwideclassbehavmadsee</td>\n",
       "    </tr>\n",
       "    <tr>\n",
       "      <th>4</th>\n",
       "      <td>0</td>\n",
       "      <td>@Kwesidei not the whole crew</td>\n",
       "      <td>kwesidei whole crew</td>\n",
       "      <td>kwesideiwholecrew</td>\n",
       "    </tr>\n",
       "  </tbody>\n",
       "</table>\n",
       "</div>"
      ],
      "text/plain": [
       "   target                                               text  \\\n",
       "0       0  is upset that he can't update his Facebook by ...   \n",
       "1       0  @Kenichan I dived many times for the ball. Man...   \n",
       "2       0    my whole body feels itchy and like its on fire    \n",
       "3       0  @nationwideclass no, it's not behaving at all....   \n",
       "4       0                      @Kwesidei not the whole crew    \n",
       "\n",
       "                                     Stemmed_content  \\\n",
       "0  upset updat facebook text might cri result sch...   \n",
       "1  kenichan dive mani time ball manag save rest g...   \n",
       "2                    whole bodi feel itchi like fire   \n",
       "3                      nationwideclass behav mad see   \n",
       "4                                kwesidei whole crew   \n",
       "\n",
       "                                   lemmatize_content  \n",
       "0  upsetupdatfacebooktextmightcriresultschooltoda...  \n",
       "1       kenichandivemanitimeballmanagsaverestgobound  \n",
       "2                         wholebodifeelitchilikefire  \n",
       "3                         nationwideclassbehavmadsee  \n",
       "4                                  kwesideiwholecrew  "
      ]
     },
     "execution_count": 29,
     "metadata": {},
     "output_type": "execute_result"
    }
   ],
   "source": [
    "dataset.head()"
   ]
  },
  {
   "cell_type": "markdown",
   "id": "9683aebf",
   "metadata": {},
   "source": [
    "## Drop unnessacary columns"
   ]
  },
  {
   "cell_type": "code",
   "execution_count": 34,
   "id": "82a6df5c",
   "metadata": {},
   "outputs": [
    {
     "data": {
      "text/html": [
       "<div>\n",
       "<style scoped>\n",
       "    .dataframe tbody tr th:only-of-type {\n",
       "        vertical-align: middle;\n",
       "    }\n",
       "\n",
       "    .dataframe tbody tr th {\n",
       "        vertical-align: top;\n",
       "    }\n",
       "\n",
       "    .dataframe thead th {\n",
       "        text-align: right;\n",
       "    }\n",
       "</style>\n",
       "<table border=\"1\" class=\"dataframe\">\n",
       "  <thead>\n",
       "    <tr style=\"text-align: right;\">\n",
       "      <th></th>\n",
       "      <th>target</th>\n",
       "      <th>text</th>\n",
       "      <th>Stemmed_content</th>\n",
       "      <th>Lemmatize_content</th>\n",
       "    </tr>\n",
       "  </thead>\n",
       "  <tbody>\n",
       "    <tr>\n",
       "      <th>0</th>\n",
       "      <td>0</td>\n",
       "      <td>is upset that he can't update his Facebook by ...</td>\n",
       "      <td>upset updat facebook text might cri result sch...</td>\n",
       "      <td>upset updat facebook text might cri result sch...</td>\n",
       "    </tr>\n",
       "    <tr>\n",
       "      <th>1</th>\n",
       "      <td>0</td>\n",
       "      <td>@Kenichan I dived many times for the ball. Man...</td>\n",
       "      <td>kenichan dive mani time ball manag save rest g...</td>\n",
       "      <td>kenichan dive mani time ball manag save rest g...</td>\n",
       "    </tr>\n",
       "    <tr>\n",
       "      <th>2</th>\n",
       "      <td>0</td>\n",
       "      <td>my whole body feels itchy and like its on fire</td>\n",
       "      <td>whole bodi feel itchi like fire</td>\n",
       "      <td>whole bodi feel itchi like fire</td>\n",
       "    </tr>\n",
       "    <tr>\n",
       "      <th>3</th>\n",
       "      <td>0</td>\n",
       "      <td>@nationwideclass no, it's not behaving at all....</td>\n",
       "      <td>nationwideclass behav mad see</td>\n",
       "      <td>nationwideclass behav mad see</td>\n",
       "    </tr>\n",
       "    <tr>\n",
       "      <th>4</th>\n",
       "      <td>0</td>\n",
       "      <td>@Kwesidei not the whole crew</td>\n",
       "      <td>kwesidei whole crew</td>\n",
       "      <td>kwesidei whole crew</td>\n",
       "    </tr>\n",
       "  </tbody>\n",
       "</table>\n",
       "</div>"
      ],
      "text/plain": [
       "   target                                               text  \\\n",
       "0       0  is upset that he can't update his Facebook by ...   \n",
       "1       0  @Kenichan I dived many times for the ball. Man...   \n",
       "2       0    my whole body feels itchy and like its on fire    \n",
       "3       0  @nationwideclass no, it's not behaving at all....   \n",
       "4       0                      @Kwesidei not the whole crew    \n",
       "\n",
       "                                     Stemmed_content  \\\n",
       "0  upset updat facebook text might cri result sch...   \n",
       "1  kenichan dive mani time ball manag save rest g...   \n",
       "2                    whole bodi feel itchi like fire   \n",
       "3                      nationwideclass behav mad see   \n",
       "4                                kwesidei whole crew   \n",
       "\n",
       "                                   Lemmatize_content  \n",
       "0  upset updat facebook text might cri result sch...  \n",
       "1  kenichan dive mani time ball manag save rest g...  \n",
       "2                    whole bodi feel itchi like fire  \n",
       "3                      nationwideclass behav mad see  \n",
       "4                                kwesidei whole crew  "
      ]
     },
     "execution_count": 34,
     "metadata": {},
     "output_type": "execute_result"
    }
   ],
   "source": [
    "# columns_drop = ['text']\n",
    "# dataset = dataset.drop(columns = 'text')\n",
    "dataset = dataset.drop(columns = 'lemmatize_content')\n",
    "dataset.head()"
   ]
  },
  {
   "cell_type": "markdown",
   "id": "b37b08eb",
   "metadata": {},
   "source": [
    "### Make a csv file and store data"
   ]
  },
  {
   "cell_type": "code",
   "execution_count": 30,
   "id": "e090754b",
   "metadata": {},
   "outputs": [],
   "source": [
    "# Assuming your dataset is named 'dataset'\n",
    "# dataset.to_csv('processed_data.csv', index=False)\n",
    "# Store file in your system \n",
    "dataset.to_csv('processed_data_stemmed.csv', index = False)\n",
    "# Save DataFrame to Excel\n",
    "# dataset.to_excel('processed_data_table.xlsx', index=False)\n"
   ]
  },
  {
   "cell_type": "code",
   "execution_count": null,
   "id": "8c8e515b",
   "metadata": {},
   "outputs": [],
   "source": []
  }
 ],
 "metadata": {
  "kernelspec": {
   "display_name": "Python 3 (ipykernel)",
   "language": "python",
   "name": "python3"
  },
  "language_info": {
   "codemirror_mode": {
    "name": "ipython",
    "version": 3
   },
   "file_extension": ".py",
   "mimetype": "text/x-python",
   "name": "python",
   "nbconvert_exporter": "python",
   "pygments_lexer": "ipython3",
   "version": "3.11.5"
  }
 },
 "nbformat": 4,
 "nbformat_minor": 5
}
